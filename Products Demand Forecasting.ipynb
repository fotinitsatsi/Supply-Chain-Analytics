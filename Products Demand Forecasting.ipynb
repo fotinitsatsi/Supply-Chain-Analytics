{
 "cells": [
  {
   "cell_type": "markdown",
   "metadata": {},
   "source": [
    "# In this project I am trying to predict demand of certain product codes given historical transactional\n"
   ]
  },
  {
   "cell_type": "code",
   "execution_count": 1,
   "metadata": {
    "colab": {
     "base_uri": "https://localhost:8080/",
     "height": 177
    },
    "id": "ePUwWQ9h1dQw",
    "outputId": "b406768f-91ba-47b1-d1d6-ec1f66ae8bce"
   },
   "outputs": [],
   "source": [
    "import pandas as pd\n",
    "import re\n",
    "import nltk \n",
    "from nltk.corpus import stopwords \n",
    "from nltk.tokenize import word_tokenize, sent_tokenize "
   ]
  },
  {
   "cell_type": "markdown",
   "metadata": {
    "id": "Axr_enjHuQ0t"
   },
   "source": [
    "# Dataset\n",
    " \n",
    "can be found here : https://archive.ics.uci.edu/ml/datasets/online+retail\n"
   ]
  },
  {
   "cell_type": "code",
   "execution_count": 4,
   "metadata": {
    "colab": {
     "base_uri": "https://localhost:8080/",
     "height": 194
    },
    "id": "3dnJ_GCS5Ae8",
    "outputId": "580b6d3e-c955-4065-d71f-1794752e50d8"
   },
   "outputs": [
    {
     "data": {
      "text/html": [
       "<div>\n",
       "<style scoped>\n",
       "    .dataframe tbody tr th:only-of-type {\n",
       "        vertical-align: middle;\n",
       "    }\n",
       "\n",
       "    .dataframe tbody tr th {\n",
       "        vertical-align: top;\n",
       "    }\n",
       "\n",
       "    .dataframe thead th {\n",
       "        text-align: right;\n",
       "    }\n",
       "</style>\n",
       "<table border=\"1\" class=\"dataframe\">\n",
       "  <thead>\n",
       "    <tr style=\"text-align: right;\">\n",
       "      <th></th>\n",
       "      <th>InvoiceNo</th>\n",
       "      <th>StockCode</th>\n",
       "      <th>Description</th>\n",
       "      <th>Quantity</th>\n",
       "      <th>InvoiceDate</th>\n",
       "      <th>UnitPrice</th>\n",
       "      <th>CustomerID</th>\n",
       "      <th>Country</th>\n",
       "    </tr>\n",
       "  </thead>\n",
       "  <tbody>\n",
       "    <tr>\n",
       "      <th>0</th>\n",
       "      <td>536365</td>\n",
       "      <td>85123A</td>\n",
       "      <td>WHITE HANGING HEART T-LIGHT HOLDER</td>\n",
       "      <td>6</td>\n",
       "      <td>2010-12-01 08:26:00</td>\n",
       "      <td>2.55</td>\n",
       "      <td>17850.0</td>\n",
       "      <td>United Kingdom</td>\n",
       "    </tr>\n",
       "    <tr>\n",
       "      <th>1</th>\n",
       "      <td>536365</td>\n",
       "      <td>71053</td>\n",
       "      <td>WHITE METAL LANTERN</td>\n",
       "      <td>6</td>\n",
       "      <td>2010-12-01 08:26:00</td>\n",
       "      <td>3.39</td>\n",
       "      <td>17850.0</td>\n",
       "      <td>United Kingdom</td>\n",
       "    </tr>\n",
       "    <tr>\n",
       "      <th>2</th>\n",
       "      <td>536365</td>\n",
       "      <td>84406B</td>\n",
       "      <td>CREAM CUPID HEARTS COAT HANGER</td>\n",
       "      <td>8</td>\n",
       "      <td>2010-12-01 08:26:00</td>\n",
       "      <td>2.75</td>\n",
       "      <td>17850.0</td>\n",
       "      <td>United Kingdom</td>\n",
       "    </tr>\n",
       "    <tr>\n",
       "      <th>3</th>\n",
       "      <td>536365</td>\n",
       "      <td>84029G</td>\n",
       "      <td>KNITTED UNION FLAG HOT WATER BOTTLE</td>\n",
       "      <td>6</td>\n",
       "      <td>2010-12-01 08:26:00</td>\n",
       "      <td>3.39</td>\n",
       "      <td>17850.0</td>\n",
       "      <td>United Kingdom</td>\n",
       "    </tr>\n",
       "    <tr>\n",
       "      <th>4</th>\n",
       "      <td>536365</td>\n",
       "      <td>84029E</td>\n",
       "      <td>RED WOOLLY HOTTIE WHITE HEART.</td>\n",
       "      <td>6</td>\n",
       "      <td>2010-12-01 08:26:00</td>\n",
       "      <td>3.39</td>\n",
       "      <td>17850.0</td>\n",
       "      <td>United Kingdom</td>\n",
       "    </tr>\n",
       "  </tbody>\n",
       "</table>\n",
       "</div>"
      ],
      "text/plain": [
       "  InvoiceNo StockCode                          Description  Quantity  \\\n",
       "0    536365    85123A   WHITE HANGING HEART T-LIGHT HOLDER         6   \n",
       "1    536365     71053                  WHITE METAL LANTERN         6   \n",
       "2    536365    84406B       CREAM CUPID HEARTS COAT HANGER         8   \n",
       "3    536365    84029G  KNITTED UNION FLAG HOT WATER BOTTLE         6   \n",
       "4    536365    84029E       RED WOOLLY HOTTIE WHITE HEART.         6   \n",
       "\n",
       "          InvoiceDate  UnitPrice  CustomerID         Country  \n",
       "0 2010-12-01 08:26:00       2.55     17850.0  United Kingdom  \n",
       "1 2010-12-01 08:26:00       3.39     17850.0  United Kingdom  \n",
       "2 2010-12-01 08:26:00       2.75     17850.0  United Kingdom  \n",
       "3 2010-12-01 08:26:00       3.39     17850.0  United Kingdom  \n",
       "4 2010-12-01 08:26:00       3.39     17850.0  United Kingdom  "
      ]
     },
     "execution_count": 4,
     "metadata": {},
     "output_type": "execute_result"
    }
   ],
   "source": [
    "data = pd.read_excel('OnlineRetail.xlsx')\n",
    "data.head()"
   ]
  },
  {
   "cell_type": "code",
   "execution_count": 114,
   "metadata": {
    "colab": {
     "base_uri": "https://localhost:8080/",
     "height": 177
    },
    "id": "F5FEu5n27IXe",
    "outputId": "c3d63a06-35fa-458c-e1bb-e13396e44f8d"
   },
   "outputs": [
    {
     "data": {
      "text/plain": [
       "InvoiceNo      0\n",
       "StockCode      0\n",
       "Description    0\n",
       "Quantity       0\n",
       "InvoiceDate    0\n",
       "UnitPrice      0\n",
       "CustomerID     0\n",
       "Country        0\n",
       "dtype: int64"
      ]
     },
     "execution_count": 114,
     "metadata": {},
     "output_type": "execute_result"
    }
   ],
   "source": [
    "data.isnull().sum()"
   ]
  },
  {
   "cell_type": "code",
   "execution_count": 115,
   "metadata": {
    "colab": {
     "base_uri": "https://localhost:8080/",
     "height": 177
    },
    "id": "i5G1WyQZ7oYV",
    "outputId": "6b189e29-3f10-4b45-eec6-f4504b3f0655"
   },
   "outputs": [
    {
     "data": {
      "text/plain": [
       "InvoiceNo      0\n",
       "StockCode      0\n",
       "Description    0\n",
       "Quantity       0\n",
       "InvoiceDate    0\n",
       "UnitPrice      0\n",
       "CustomerID     0\n",
       "Country        0\n",
       "dtype: int64"
      ]
     },
     "execution_count": 115,
     "metadata": {},
     "output_type": "execute_result"
    }
   ],
   "source": [
    "data.dropna(inplace=True)\n",
    "data.isnull().sum()"
   ]
  },
  {
   "cell_type": "markdown",
   "metadata": {
    "id": "VlsYA_gTf34Q"
   },
   "source": [
    "# Create Product type and Colour Type from description using NLP"
   ]
  },
  {
   "cell_type": "code",
   "execution_count": 13,
   "metadata": {
    "id": "L2FrEMLJTJHX"
   },
   "outputs": [],
   "source": [
    "colours = ['red','orange', 'yellow','green', 'blue', 'indigo','violet','purple','pink','silver', 'gold', 'beige', 'brown', 'grey', 'gray', 'black', 'white', 'cream']\n",
    "\n",
    "stop_words = set(stopwords.words('english'))\n",
    "Product_type = []\n",
    "Colour_type = []\n",
    "dataset=data.head(50000)\n",
    "for row in dataset.iloc[:,2]:\n",
    "  s=\" \"\n",
    "  description = re.sub('[^a-zA-Z]',\" \", str(row).lower())\n",
    "  wordsList = nltk.word_tokenize(description)\n",
    "  wordsList = [nltk.stem.WordNetLemmatizer().lemmatize(w, 'n') for w in wordsList if not w in stop_words]\n",
    "\n",
    "  flag=False\n",
    "  for w in wordsList:\n",
    "    if w in colours:\n",
    "      Colour_type.append(w)\n",
    "      flag=True\n",
    "      break\n",
    "  if flag==False:\n",
    "    Colour_type.append(\"No\")\n",
    "\n",
    "  tagged = nltk.pos_tag(wordsList)\n",
    "\n",
    "  for tag in tagged:\n",
    "    if tag[1]=='NN' :\n",
    "      s+=tag[0] +  \" \"\n",
    "  Product_type.append(s)\n"
   ]
  },
  {
   "cell_type": "code",
   "execution_count": 14,
   "metadata": {
    "colab": {
     "base_uri": "https://localhost:8080/",
     "height": 407
    },
    "id": "vagsDRqMeKuX",
    "outputId": "f69ddd61-14bc-41c3-9cfd-4791c2e856db"
   },
   "outputs": [
    {
     "name": "stderr",
     "output_type": "stream",
     "text": [
      "<ipython-input-14-7c138b120e97>:3: SettingWithCopyWarning: \n",
      "A value is trying to be set on a copy of a slice from a DataFrame.\n",
      "Try using .loc[row_indexer,col_indexer] = value instead\n",
      "\n",
      "See the caveats in the documentation: https://pandas.pydata.org/pandas-docs/stable/user_guide/indexing.html#returning-a-view-versus-a-copy\n",
      "  dataset['Product_Type']=Product_type\n",
      "<ipython-input-14-7c138b120e97>:4: SettingWithCopyWarning: \n",
      "A value is trying to be set on a copy of a slice from a DataFrame.\n",
      "Try using .loc[row_indexer,col_indexer] = value instead\n",
      "\n",
      "See the caveats in the documentation: https://pandas.pydata.org/pandas-docs/stable/user_guide/indexing.html#returning-a-view-versus-a-copy\n",
      "  dataset['Colour_type']=Colour_type\n"
     ]
    },
    {
     "data": {
      "text/html": [
       "<div>\n",
       "<style scoped>\n",
       "    .dataframe tbody tr th:only-of-type {\n",
       "        vertical-align: middle;\n",
       "    }\n",
       "\n",
       "    .dataframe tbody tr th {\n",
       "        vertical-align: top;\n",
       "    }\n",
       "\n",
       "    .dataframe thead th {\n",
       "        text-align: right;\n",
       "    }\n",
       "</style>\n",
       "<table border=\"1\" class=\"dataframe\">\n",
       "  <thead>\n",
       "    <tr style=\"text-align: right;\">\n",
       "      <th></th>\n",
       "      <th>InvoiceNo</th>\n",
       "      <th>StockCode</th>\n",
       "      <th>Description</th>\n",
       "      <th>Quantity</th>\n",
       "      <th>InvoiceDate</th>\n",
       "      <th>UnitPrice</th>\n",
       "      <th>CustomerID</th>\n",
       "      <th>Country</th>\n",
       "      <th>Product_Type</th>\n",
       "      <th>Colour_type</th>\n",
       "    </tr>\n",
       "  </thead>\n",
       "  <tbody>\n",
       "    <tr>\n",
       "      <th>0</th>\n",
       "      <td>536365</td>\n",
       "      <td>85123A</td>\n",
       "      <td>WHITE HANGING HEART T-LIGHT HOLDER</td>\n",
       "      <td>6</td>\n",
       "      <td>2010-12-01 08:26:00</td>\n",
       "      <td>2.55</td>\n",
       "      <td>17850.0</td>\n",
       "      <td>United Kingdom</td>\n",
       "      <td>heart light holder</td>\n",
       "      <td>white</td>\n",
       "    </tr>\n",
       "    <tr>\n",
       "      <th>1</th>\n",
       "      <td>536365</td>\n",
       "      <td>71053</td>\n",
       "      <td>WHITE METAL LANTERN</td>\n",
       "      <td>6</td>\n",
       "      <td>2010-12-01 08:26:00</td>\n",
       "      <td>3.39</td>\n",
       "      <td>17850.0</td>\n",
       "      <td>United Kingdom</td>\n",
       "      <td>metal lantern</td>\n",
       "      <td>white</td>\n",
       "    </tr>\n",
       "    <tr>\n",
       "      <th>2</th>\n",
       "      <td>536365</td>\n",
       "      <td>84406B</td>\n",
       "      <td>CREAM CUPID HEARTS COAT HANGER</td>\n",
       "      <td>8</td>\n",
       "      <td>2010-12-01 08:26:00</td>\n",
       "      <td>2.75</td>\n",
       "      <td>17850.0</td>\n",
       "      <td>United Kingdom</td>\n",
       "      <td>cream heart coat hanger</td>\n",
       "      <td>cream</td>\n",
       "    </tr>\n",
       "    <tr>\n",
       "      <th>3</th>\n",
       "      <td>536365</td>\n",
       "      <td>84029G</td>\n",
       "      <td>KNITTED UNION FLAG HOT WATER BOTTLE</td>\n",
       "      <td>6</td>\n",
       "      <td>2010-12-01 08:26:00</td>\n",
       "      <td>3.39</td>\n",
       "      <td>17850.0</td>\n",
       "      <td>United Kingdom</td>\n",
       "      <td>union flag water bottle</td>\n",
       "      <td>No</td>\n",
       "    </tr>\n",
       "    <tr>\n",
       "      <th>4</th>\n",
       "      <td>536365</td>\n",
       "      <td>84029E</td>\n",
       "      <td>RED WOOLLY HOTTIE WHITE HEART.</td>\n",
       "      <td>6</td>\n",
       "      <td>2010-12-01 08:26:00</td>\n",
       "      <td>3.39</td>\n",
       "      <td>17850.0</td>\n",
       "      <td>United Kingdom</td>\n",
       "      <td>heart</td>\n",
       "      <td>red</td>\n",
       "    </tr>\n",
       "  </tbody>\n",
       "</table>\n",
       "</div>"
      ],
      "text/plain": [
       "  InvoiceNo StockCode                          Description  Quantity  \\\n",
       "0    536365    85123A   WHITE HANGING HEART T-LIGHT HOLDER         6   \n",
       "1    536365     71053                  WHITE METAL LANTERN         6   \n",
       "2    536365    84406B       CREAM CUPID HEARTS COAT HANGER         8   \n",
       "3    536365    84029G  KNITTED UNION FLAG HOT WATER BOTTLE         6   \n",
       "4    536365    84029E       RED WOOLLY HOTTIE WHITE HEART.         6   \n",
       "\n",
       "          InvoiceDate  UnitPrice  CustomerID         Country  \\\n",
       "0 2010-12-01 08:26:00       2.55     17850.0  United Kingdom   \n",
       "1 2010-12-01 08:26:00       3.39     17850.0  United Kingdom   \n",
       "2 2010-12-01 08:26:00       2.75     17850.0  United Kingdom   \n",
       "3 2010-12-01 08:26:00       3.39     17850.0  United Kingdom   \n",
       "4 2010-12-01 08:26:00       3.39     17850.0  United Kingdom   \n",
       "\n",
       "                Product_Type Colour_type  \n",
       "0        heart light holder        white  \n",
       "1             metal lantern        white  \n",
       "2   cream heart coat hanger        cream  \n",
       "3   union flag water bottle           No  \n",
       "4                     heart          red  "
      ]
     },
     "execution_count": 14,
     "metadata": {},
     "output_type": "execute_result"
    }
   ],
   "source": [
    "dataset['Product_Type']=Product_type\n",
    "dataset['Colour_type']=Colour_type\n",
    "dataset.head()"
   ]
  },
  {
   "cell_type": "code",
   "execution_count": 15,
   "metadata": {
    "id": "vf8AQEbJA-iV"
   },
   "outputs": [],
   "source": [
    "# We do not need them\n",
    "X = dataset.drop([\"Description\",\"InvoiceDate\"],axis=1)"
   ]
  },
  {
   "cell_type": "code",
   "execution_count": 16,
   "metadata": {
    "colab": {
     "base_uri": "https://localhost:8080/",
     "height": 194
    },
    "id": "M9V3VTPYA4I7",
    "outputId": "1afeec16-ec1c-478f-abf7-44dd080e6cf0"
   },
   "outputs": [
    {
     "data": {
      "text/html": [
       "<div>\n",
       "<style scoped>\n",
       "    .dataframe tbody tr th:only-of-type {\n",
       "        vertical-align: middle;\n",
       "    }\n",
       "\n",
       "    .dataframe tbody tr th {\n",
       "        vertical-align: top;\n",
       "    }\n",
       "\n",
       "    .dataframe thead th {\n",
       "        text-align: right;\n",
       "    }\n",
       "</style>\n",
       "<table border=\"1\" class=\"dataframe\">\n",
       "  <thead>\n",
       "    <tr style=\"text-align: right;\">\n",
       "      <th></th>\n",
       "      <th>InvoiceNo</th>\n",
       "      <th>StockCode</th>\n",
       "      <th>Quantity</th>\n",
       "      <th>UnitPrice</th>\n",
       "      <th>CustomerID</th>\n",
       "      <th>Country</th>\n",
       "      <th>Product_Type</th>\n",
       "      <th>Colour_type</th>\n",
       "    </tr>\n",
       "  </thead>\n",
       "  <tbody>\n",
       "    <tr>\n",
       "      <th>0</th>\n",
       "      <td>536365</td>\n",
       "      <td>85123A</td>\n",
       "      <td>6</td>\n",
       "      <td>2.55</td>\n",
       "      <td>17850.0</td>\n",
       "      <td>United Kingdom</td>\n",
       "      <td>heart light holder</td>\n",
       "      <td>white</td>\n",
       "    </tr>\n",
       "    <tr>\n",
       "      <th>1</th>\n",
       "      <td>536365</td>\n",
       "      <td>71053</td>\n",
       "      <td>6</td>\n",
       "      <td>3.39</td>\n",
       "      <td>17850.0</td>\n",
       "      <td>United Kingdom</td>\n",
       "      <td>metal lantern</td>\n",
       "      <td>white</td>\n",
       "    </tr>\n",
       "    <tr>\n",
       "      <th>2</th>\n",
       "      <td>536365</td>\n",
       "      <td>84406B</td>\n",
       "      <td>8</td>\n",
       "      <td>2.75</td>\n",
       "      <td>17850.0</td>\n",
       "      <td>United Kingdom</td>\n",
       "      <td>cream heart coat hanger</td>\n",
       "      <td>cream</td>\n",
       "    </tr>\n",
       "    <tr>\n",
       "      <th>3</th>\n",
       "      <td>536365</td>\n",
       "      <td>84029G</td>\n",
       "      <td>6</td>\n",
       "      <td>3.39</td>\n",
       "      <td>17850.0</td>\n",
       "      <td>United Kingdom</td>\n",
       "      <td>union flag water bottle</td>\n",
       "      <td>No</td>\n",
       "    </tr>\n",
       "    <tr>\n",
       "      <th>4</th>\n",
       "      <td>536365</td>\n",
       "      <td>84029E</td>\n",
       "      <td>6</td>\n",
       "      <td>3.39</td>\n",
       "      <td>17850.0</td>\n",
       "      <td>United Kingdom</td>\n",
       "      <td>heart</td>\n",
       "      <td>red</td>\n",
       "    </tr>\n",
       "  </tbody>\n",
       "</table>\n",
       "</div>"
      ],
      "text/plain": [
       "  InvoiceNo StockCode  Quantity  UnitPrice  CustomerID         Country  \\\n",
       "0    536365    85123A         6       2.55     17850.0  United Kingdom   \n",
       "1    536365     71053         6       3.39     17850.0  United Kingdom   \n",
       "2    536365    84406B         8       2.75     17850.0  United Kingdom   \n",
       "3    536365    84029G         6       3.39     17850.0  United Kingdom   \n",
       "4    536365    84029E         6       3.39     17850.0  United Kingdom   \n",
       "\n",
       "                Product_Type Colour_type  \n",
       "0        heart light holder        white  \n",
       "1             metal lantern        white  \n",
       "2   cream heart coat hanger        cream  \n",
       "3   union flag water bottle           No  \n",
       "4                     heart          red  "
      ]
     },
     "execution_count": 16,
     "metadata": {},
     "output_type": "execute_result"
    }
   ],
   "source": [
    "X.head()"
   ]
  },
  {
   "cell_type": "markdown",
   "metadata": {
    "id": "9Nm1zJ676Yeb"
   },
   "source": [
    "# Created a new feature name \"GMV\" -> Price * Quantity"
   ]
  },
  {
   "cell_type": "code",
   "execution_count": 19,
   "metadata": {
    "colab": {
     "base_uri": "https://localhost:8080/",
     "height": 194
    },
    "id": "EfuohN2Nieln",
    "outputId": "e11ed8d8-2403-4aa1-f187-ed1d67245d84"
   },
   "outputs": [
    {
     "data": {
      "text/html": [
       "<div>\n",
       "<style scoped>\n",
       "    .dataframe tbody tr th:only-of-type {\n",
       "        vertical-align: middle;\n",
       "    }\n",
       "\n",
       "    .dataframe tbody tr th {\n",
       "        vertical-align: top;\n",
       "    }\n",
       "\n",
       "    .dataframe thead th {\n",
       "        text-align: right;\n",
       "    }\n",
       "</style>\n",
       "<table border=\"1\" class=\"dataframe\">\n",
       "  <thead>\n",
       "    <tr style=\"text-align: right;\">\n",
       "      <th></th>\n",
       "      <th>InvoiceNo</th>\n",
       "      <th>StockCode</th>\n",
       "      <th>Quantity</th>\n",
       "      <th>UnitPrice</th>\n",
       "      <th>CustomerID</th>\n",
       "      <th>Country</th>\n",
       "      <th>Product_Type</th>\n",
       "      <th>Colour_type</th>\n",
       "      <th>GMV</th>\n",
       "    </tr>\n",
       "  </thead>\n",
       "  <tbody>\n",
       "    <tr>\n",
       "      <th>0</th>\n",
       "      <td>536365</td>\n",
       "      <td>85123A</td>\n",
       "      <td>6</td>\n",
       "      <td>2.55</td>\n",
       "      <td>17850.0</td>\n",
       "      <td>United Kingdom</td>\n",
       "      <td>heart light holder</td>\n",
       "      <td>white</td>\n",
       "      <td>15.30</td>\n",
       "    </tr>\n",
       "    <tr>\n",
       "      <th>1</th>\n",
       "      <td>536365</td>\n",
       "      <td>71053</td>\n",
       "      <td>6</td>\n",
       "      <td>3.39</td>\n",
       "      <td>17850.0</td>\n",
       "      <td>United Kingdom</td>\n",
       "      <td>metal lantern</td>\n",
       "      <td>white</td>\n",
       "      <td>20.34</td>\n",
       "    </tr>\n",
       "    <tr>\n",
       "      <th>2</th>\n",
       "      <td>536365</td>\n",
       "      <td>84406B</td>\n",
       "      <td>8</td>\n",
       "      <td>2.75</td>\n",
       "      <td>17850.0</td>\n",
       "      <td>United Kingdom</td>\n",
       "      <td>cream heart coat hanger</td>\n",
       "      <td>cream</td>\n",
       "      <td>22.00</td>\n",
       "    </tr>\n",
       "    <tr>\n",
       "      <th>3</th>\n",
       "      <td>536365</td>\n",
       "      <td>84029G</td>\n",
       "      <td>6</td>\n",
       "      <td>3.39</td>\n",
       "      <td>17850.0</td>\n",
       "      <td>United Kingdom</td>\n",
       "      <td>union flag water bottle</td>\n",
       "      <td>No</td>\n",
       "      <td>20.34</td>\n",
       "    </tr>\n",
       "    <tr>\n",
       "      <th>4</th>\n",
       "      <td>536365</td>\n",
       "      <td>84029E</td>\n",
       "      <td>6</td>\n",
       "      <td>3.39</td>\n",
       "      <td>17850.0</td>\n",
       "      <td>United Kingdom</td>\n",
       "      <td>heart</td>\n",
       "      <td>red</td>\n",
       "      <td>20.34</td>\n",
       "    </tr>\n",
       "  </tbody>\n",
       "</table>\n",
       "</div>"
      ],
      "text/plain": [
       "  InvoiceNo StockCode  Quantity  UnitPrice  CustomerID         Country  \\\n",
       "0    536365    85123A         6       2.55     17850.0  United Kingdom   \n",
       "1    536365     71053         6       3.39     17850.0  United Kingdom   \n",
       "2    536365    84406B         8       2.75     17850.0  United Kingdom   \n",
       "3    536365    84029G         6       3.39     17850.0  United Kingdom   \n",
       "4    536365    84029E         6       3.39     17850.0  United Kingdom   \n",
       "\n",
       "                Product_Type Colour_type    GMV  \n",
       "0        heart light holder        white  15.30  \n",
       "1             metal lantern        white  20.34  \n",
       "2   cream heart coat hanger        cream  22.00  \n",
       "3   union flag water bottle           No  20.34  \n",
       "4                     heart          red  20.34  "
      ]
     },
     "execution_count": 19,
     "metadata": {},
     "output_type": "execute_result"
    }
   ],
   "source": [
    "X['GMV'] = X['UnitPrice'] * X['Quantity']\n",
    "X.head()"
   ]
  },
  {
   "cell_type": "code",
   "execution_count": 25,
   "metadata": {},
   "outputs": [],
   "source": [
    "X[['InvoiceNo', 'StockCode','CustomerID','Country','Product_Type','Colour_type']] = X[['InvoiceNo', 'StockCode','CustomerID','Country','Product_Type','Colour_type']].astype(str)"
   ]
  },
  {
   "cell_type": "code",
   "execution_count": 26,
   "metadata": {
    "id": "jixhGKWYAvlL"
   },
   "outputs": [],
   "source": [
    "from sklearn import preprocessing\n",
    "label_encoder = preprocessing.LabelEncoder()\n",
    "\n",
    "for col in [\"InvoiceNo\", \"StockCode\", \"CustomerID\",\"Country\", \"Product_Type\",\"Colour_type\"]:\n",
    "  X[col] = label_encoder.fit_transform(X[col])"
   ]
  },
  {
   "cell_type": "code",
   "execution_count": 27,
   "metadata": {
    "colab": {
     "base_uri": "https://localhost:8080/",
     "height": 301
    },
    "id": "jBa2_ULFBIza",
    "outputId": "4919c403-acf9-4571-c23f-7ca04f9baf3d"
   },
   "outputs": [
    {
     "name": "stdout",
     "output_type": "stream",
     "text": [
      "<class 'pandas.core.frame.DataFrame'>\n",
      "Int64Index: 50000 entries, 0 to 79177\n",
      "Data columns (total 9 columns):\n",
      " #   Column        Non-Null Count  Dtype  \n",
      "---  ------        --------------  -----  \n",
      " 0   InvoiceNo     50000 non-null  int64  \n",
      " 1   StockCode     50000 non-null  int64  \n",
      " 2   Quantity      50000 non-null  int64  \n",
      " 3   UnitPrice     50000 non-null  float64\n",
      " 4   CustomerID    50000 non-null  int64  \n",
      " 5   Country       50000 non-null  int64  \n",
      " 6   Product_Type  50000 non-null  int64  \n",
      " 7   Colour_type   50000 non-null  int64  \n",
      " 8   GMV           50000 non-null  float64\n",
      "dtypes: float64(2), int64(7)\n",
      "memory usage: 3.8 MB\n"
     ]
    }
   ],
   "source": [
    "X.info()"
   ]
  },
  {
   "cell_type": "code",
   "execution_count": 29,
   "metadata": {
    "colab": {
     "base_uri": "https://localhost:8080/",
     "height": 301
    },
    "id": "BQGa4uh7QbDT",
    "outputId": "c8d1e29d-e120-4cf5-c195-a7de5e6e525d"
   },
   "outputs": [
    {
     "name": "stdout",
     "output_type": "stream",
     "text": [
      "<class 'pandas.core.frame.DataFrame'>\n",
      "Int64Index: 50000 entries, 0 to 79177\n",
      "Data columns (total 9 columns):\n",
      " #   Column        Non-Null Count  Dtype   \n",
      "---  ------        --------------  -----   \n",
      " 0   InvoiceNo     50000 non-null  category\n",
      " 1   StockCode     50000 non-null  category\n",
      " 2   Quantity      50000 non-null  float64 \n",
      " 3   UnitPrice     50000 non-null  float64 \n",
      " 4   CustomerID    50000 non-null  category\n",
      " 5   Country       50000 non-null  category\n",
      " 6   Product_Type  50000 non-null  category\n",
      " 7   Colour_type   50000 non-null  category\n",
      " 8   GMV           50000 non-null  float64 \n",
      "dtypes: category(6), float64(3)\n",
      "memory usage: 2.3 MB\n"
     ]
    }
   ],
   "source": [
    "X = X.astype('category')\n",
    "X.iloc[:, 2] = X.iloc[:, 2].astype(float)\n",
    "X.iloc[:, 3] = X.iloc[:, 3].astype(float)\n",
    "X.iloc[:, 8] = X.iloc[:, 3].astype(float)\n",
    "X.info()"
   ]
  },
  {
   "cell_type": "code",
   "execution_count": 31,
   "metadata": {
    "id": "CxGTy-AXP-ut"
   },
   "outputs": [],
   "source": [
    "from sklearn.model_selection import train_test_split\n",
    "train, test = train_test_split(X, train_size=0.7, random_state = 123)"
   ]
  },
  {
   "cell_type": "markdown",
   "metadata": {
    "id": "Z9jwPGMviHCq"
   },
   "source": [
    "# Cluster similar purchases based on feature values"
   ]
  },
  {
   "cell_type": "code",
   "execution_count": 33,
   "metadata": {
    "id": "qLzYBzavhBMe"
   },
   "outputs": [
    {
     "name": "stdout",
     "output_type": "stream",
     "text": [
      "49759184.77822324\n"
     ]
    }
   ],
   "source": [
    "kproto = KPrototypes(n_clusters=3, init='Cao')\n",
    "kproto.fit_predict(train, categorical=[0,1,4,5,6])\n",
    "print(kproto.cost_)\n",
    "labels=kproto.labels_"
   ]
  },
  {
   "cell_type": "code",
   "execution_count": 34,
   "metadata": {
    "id": "QAfErjhxMm-9"
   },
   "outputs": [
    {
     "name": "stderr",
     "output_type": "stream",
     "text": [
      "<ipython-input-34-b5f872ad72b4>:3: SettingWithCopyWarning: \n",
      "A value is trying to be set on a copy of a slice from a DataFrame.\n",
      "Try using .loc[row_indexer,col_indexer] = value instead\n",
      "\n",
      "See the caveats in the documentation: https://pandas.pydata.org/pandas-docs/stable/user_guide/indexing.html#returning-a-view-versus-a-copy\n",
      "  train[\"Cluster number\"]=labels\n"
     ]
    },
    {
     "data": {
      "text/html": [
       "<div>\n",
       "<style scoped>\n",
       "    .dataframe tbody tr th:only-of-type {\n",
       "        vertical-align: middle;\n",
       "    }\n",
       "\n",
       "    .dataframe tbody tr th {\n",
       "        vertical-align: top;\n",
       "    }\n",
       "\n",
       "    .dataframe thead th {\n",
       "        text-align: right;\n",
       "    }\n",
       "</style>\n",
       "<table border=\"1\" class=\"dataframe\">\n",
       "  <thead>\n",
       "    <tr style=\"text-align: right;\">\n",
       "      <th></th>\n",
       "      <th>InvoiceNo</th>\n",
       "      <th>StockCode</th>\n",
       "      <th>Quantity</th>\n",
       "      <th>UnitPrice</th>\n",
       "      <th>CustomerID</th>\n",
       "      <th>Country</th>\n",
       "      <th>Product_Type</th>\n",
       "      <th>Colour_type</th>\n",
       "      <th>GMV</th>\n",
       "      <th>Cluster number</th>\n",
       "    </tr>\n",
       "  </thead>\n",
       "  <tbody>\n",
       "    <tr>\n",
       "      <th>26354</th>\n",
       "      <td>880</td>\n",
       "      <td>276</td>\n",
       "      <td>2.0</td>\n",
       "      <td>2.95</td>\n",
       "      <td>476</td>\n",
       "      <td>25</td>\n",
       "      <td>1760</td>\n",
       "      <td>11</td>\n",
       "      <td>2.95</td>\n",
       "      <td>1</td>\n",
       "    </tr>\n",
       "    <tr>\n",
       "      <th>20198</th>\n",
       "      <td>717</td>\n",
       "      <td>704</td>\n",
       "      <td>2.0</td>\n",
       "      <td>2.95</td>\n",
       "      <td>1092</td>\n",
       "      <td>25</td>\n",
       "      <td>1929</td>\n",
       "      <td>0</td>\n",
       "      <td>2.95</td>\n",
       "      <td>1</td>\n",
       "    </tr>\n",
       "    <tr>\n",
       "      <th>78843</th>\n",
       "      <td>2430</td>\n",
       "      <td>1291</td>\n",
       "      <td>1.0</td>\n",
       "      <td>4.95</td>\n",
       "      <td>872</td>\n",
       "      <td>25</td>\n",
       "      <td>1239</td>\n",
       "      <td>0</td>\n",
       "      <td>4.95</td>\n",
       "      <td>1</td>\n",
       "    </tr>\n",
       "    <tr>\n",
       "      <th>25400</th>\n",
       "      <td>851</td>\n",
       "      <td>517</td>\n",
       "      <td>1.0</td>\n",
       "      <td>3.75</td>\n",
       "      <td>735</td>\n",
       "      <td>25</td>\n",
       "      <td>872</td>\n",
       "      <td>11</td>\n",
       "      <td>3.75</td>\n",
       "      <td>1</td>\n",
       "    </tr>\n",
       "    <tr>\n",
       "      <th>19735</th>\n",
       "      <td>687</td>\n",
       "      <td>2308</td>\n",
       "      <td>24.0</td>\n",
       "      <td>0.42</td>\n",
       "      <td>705</td>\n",
       "      <td>25</td>\n",
       "      <td>346</td>\n",
       "      <td>6</td>\n",
       "      <td>0.42</td>\n",
       "      <td>1</td>\n",
       "    </tr>\n",
       "    <tr>\n",
       "      <th>...</th>\n",
       "      <td>...</td>\n",
       "      <td>...</td>\n",
       "      <td>...</td>\n",
       "      <td>...</td>\n",
       "      <td>...</td>\n",
       "      <td>...</td>\n",
       "      <td>...</td>\n",
       "      <td>...</td>\n",
       "      <td>...</td>\n",
       "      <td>...</td>\n",
       "    </tr>\n",
       "    <tr>\n",
       "      <th>10054</th>\n",
       "      <td>400</td>\n",
       "      <td>736</td>\n",
       "      <td>3.0</td>\n",
       "      <td>3.75</td>\n",
       "      <td>224</td>\n",
       "      <td>25</td>\n",
       "      <td>442</td>\n",
       "      <td>13</td>\n",
       "      <td>3.75</td>\n",
       "      <td>1</td>\n",
       "    </tr>\n",
       "    <tr>\n",
       "      <th>23634</th>\n",
       "      <td>807</td>\n",
       "      <td>1564</td>\n",
       "      <td>2.0</td>\n",
       "      <td>9.95</td>\n",
       "      <td>113</td>\n",
       "      <td>25</td>\n",
       "      <td>1507</td>\n",
       "      <td>0</td>\n",
       "      <td>9.95</td>\n",
       "      <td>1</td>\n",
       "    </tr>\n",
       "    <tr>\n",
       "      <th>26762</th>\n",
       "      <td>893</td>\n",
       "      <td>695</td>\n",
       "      <td>12.0</td>\n",
       "      <td>1.65</td>\n",
       "      <td>228</td>\n",
       "      <td>25</td>\n",
       "      <td>2066</td>\n",
       "      <td>11</td>\n",
       "      <td>1.65</td>\n",
       "      <td>1</td>\n",
       "    </tr>\n",
       "    <tr>\n",
       "      <th>44379</th>\n",
       "      <td>1456</td>\n",
       "      <td>1613</td>\n",
       "      <td>1.0</td>\n",
       "      <td>16.95</td>\n",
       "      <td>507</td>\n",
       "      <td>25</td>\n",
       "      <td>212</td>\n",
       "      <td>11</td>\n",
       "      <td>16.95</td>\n",
       "      <td>1</td>\n",
       "    </tr>\n",
       "    <tr>\n",
       "      <th>23985</th>\n",
       "      <td>827</td>\n",
       "      <td>1504</td>\n",
       "      <td>1.0</td>\n",
       "      <td>1.25</td>\n",
       "      <td>541</td>\n",
       "      <td>25</td>\n",
       "      <td>2146</td>\n",
       "      <td>0</td>\n",
       "      <td>1.25</td>\n",
       "      <td>1</td>\n",
       "    </tr>\n",
       "  </tbody>\n",
       "</table>\n",
       "<p>35000 rows × 10 columns</p>\n",
       "</div>"
      ],
      "text/plain": [
       "      InvoiceNo StockCode  Quantity  UnitPrice CustomerID Country  \\\n",
       "26354       880       276       2.0       2.95        476      25   \n",
       "20198       717       704       2.0       2.95       1092      25   \n",
       "78843      2430      1291       1.0       4.95        872      25   \n",
       "25400       851       517       1.0       3.75        735      25   \n",
       "19735       687      2308      24.0       0.42        705      25   \n",
       "...         ...       ...       ...        ...        ...     ...   \n",
       "10054       400       736       3.0       3.75        224      25   \n",
       "23634       807      1564       2.0       9.95        113      25   \n",
       "26762       893       695      12.0       1.65        228      25   \n",
       "44379      1456      1613       1.0      16.95        507      25   \n",
       "23985       827      1504       1.0       1.25        541      25   \n",
       "\n",
       "      Product_Type Colour_type    GMV  Cluster number  \n",
       "26354         1760          11   2.95               1  \n",
       "20198         1929           0   2.95               1  \n",
       "78843         1239           0   4.95               1  \n",
       "25400          872          11   3.75               1  \n",
       "19735          346           6   0.42               1  \n",
       "...            ...         ...    ...             ...  \n",
       "10054          442          13   3.75               1  \n",
       "23634         1507           0   9.95               1  \n",
       "26762         2066          11   1.65               1  \n",
       "44379          212          11  16.95               1  \n",
       "23985         2146           0   1.25               1  \n",
       "\n",
       "[35000 rows x 10 columns]"
      ]
     },
     "execution_count": 34,
     "metadata": {},
     "output_type": "execute_result"
    }
   ],
   "source": [
    "train[\"Cluster number\"]=labels\n",
    "train"
   ]
  },
  {
   "cell_type": "code",
   "execution_count": 44,
   "metadata": {
    "id": "y4tC7AkEJCGZ"
   },
   "outputs": [
    {
     "data": {
      "text/html": [
       "<div>\n",
       "<style scoped>\n",
       "    .dataframe tbody tr th:only-of-type {\n",
       "        vertical-align: middle;\n",
       "    }\n",
       "\n",
       "    .dataframe tbody tr th {\n",
       "        vertical-align: top;\n",
       "    }\n",
       "\n",
       "    .dataframe thead th {\n",
       "        text-align: right;\n",
       "    }\n",
       "</style>\n",
       "<table border=\"1\" class=\"dataframe\">\n",
       "  <thead>\n",
       "    <tr style=\"text-align: right;\">\n",
       "      <th></th>\n",
       "      <th>InvoiceNo</th>\n",
       "      <th>StockCode</th>\n",
       "      <th>Quantity</th>\n",
       "      <th>UnitPrice</th>\n",
       "      <th>CustomerID</th>\n",
       "      <th>Country</th>\n",
       "      <th>Product_Type</th>\n",
       "      <th>Colour_type</th>\n",
       "      <th>GMV</th>\n",
       "      <th>Cluster number</th>\n",
       "      <th>InvoiceDate</th>\n",
       "    </tr>\n",
       "  </thead>\n",
       "  <tbody>\n",
       "    <tr>\n",
       "      <th>26354</th>\n",
       "      <td>880</td>\n",
       "      <td>276</td>\n",
       "      <td>2.0</td>\n",
       "      <td>2.95</td>\n",
       "      <td>476</td>\n",
       "      <td>25</td>\n",
       "      <td>1760</td>\n",
       "      <td>11</td>\n",
       "      <td>2.95</td>\n",
       "      <td>1</td>\n",
       "      <td>2010-12-12 13:37:00</td>\n",
       "    </tr>\n",
       "    <tr>\n",
       "      <th>20198</th>\n",
       "      <td>717</td>\n",
       "      <td>704</td>\n",
       "      <td>2.0</td>\n",
       "      <td>2.95</td>\n",
       "      <td>1092</td>\n",
       "      <td>25</td>\n",
       "      <td>1929</td>\n",
       "      <td>0</td>\n",
       "      <td>2.95</td>\n",
       "      <td>1</td>\n",
       "      <td>2010-12-09 12:37:00</td>\n",
       "    </tr>\n",
       "    <tr>\n",
       "      <th>78843</th>\n",
       "      <td>2430</td>\n",
       "      <td>1291</td>\n",
       "      <td>1.0</td>\n",
       "      <td>4.95</td>\n",
       "      <td>872</td>\n",
       "      <td>25</td>\n",
       "      <td>1239</td>\n",
       "      <td>0</td>\n",
       "      <td>4.95</td>\n",
       "      <td>1</td>\n",
       "      <td>2011-02-01 14:01:00</td>\n",
       "    </tr>\n",
       "    <tr>\n",
       "      <th>25400</th>\n",
       "      <td>851</td>\n",
       "      <td>517</td>\n",
       "      <td>1.0</td>\n",
       "      <td>3.75</td>\n",
       "      <td>735</td>\n",
       "      <td>25</td>\n",
       "      <td>872</td>\n",
       "      <td>11</td>\n",
       "      <td>3.75</td>\n",
       "      <td>1</td>\n",
       "      <td>2010-12-12 10:57:00</td>\n",
       "    </tr>\n",
       "    <tr>\n",
       "      <th>19735</th>\n",
       "      <td>687</td>\n",
       "      <td>2308</td>\n",
       "      <td>24.0</td>\n",
       "      <td>0.42</td>\n",
       "      <td>705</td>\n",
       "      <td>25</td>\n",
       "      <td>346</td>\n",
       "      <td>6</td>\n",
       "      <td>0.42</td>\n",
       "      <td>1</td>\n",
       "      <td>2010-12-09 10:04:00</td>\n",
       "    </tr>\n",
       "    <tr>\n",
       "      <th>...</th>\n",
       "      <td>...</td>\n",
       "      <td>...</td>\n",
       "      <td>...</td>\n",
       "      <td>...</td>\n",
       "      <td>...</td>\n",
       "      <td>...</td>\n",
       "      <td>...</td>\n",
       "      <td>...</td>\n",
       "      <td>...</td>\n",
       "      <td>...</td>\n",
       "      <td>...</td>\n",
       "    </tr>\n",
       "    <tr>\n",
       "      <th>10054</th>\n",
       "      <td>400</td>\n",
       "      <td>736</td>\n",
       "      <td>3.0</td>\n",
       "      <td>3.75</td>\n",
       "      <td>224</td>\n",
       "      <td>25</td>\n",
       "      <td>442</td>\n",
       "      <td>13</td>\n",
       "      <td>3.75</td>\n",
       "      <td>1</td>\n",
       "      <td>2010-12-05 16:24:00</td>\n",
       "    </tr>\n",
       "    <tr>\n",
       "      <th>23634</th>\n",
       "      <td>807</td>\n",
       "      <td>1564</td>\n",
       "      <td>2.0</td>\n",
       "      <td>9.95</td>\n",
       "      <td>113</td>\n",
       "      <td>25</td>\n",
       "      <td>1507</td>\n",
       "      <td>0</td>\n",
       "      <td>9.95</td>\n",
       "      <td>1</td>\n",
       "      <td>2010-12-10 11:33:00</td>\n",
       "    </tr>\n",
       "    <tr>\n",
       "      <th>26762</th>\n",
       "      <td>893</td>\n",
       "      <td>695</td>\n",
       "      <td>12.0</td>\n",
       "      <td>1.65</td>\n",
       "      <td>228</td>\n",
       "      <td>25</td>\n",
       "      <td>2066</td>\n",
       "      <td>11</td>\n",
       "      <td>1.65</td>\n",
       "      <td>1</td>\n",
       "      <td>2010-12-13 09:29:00</td>\n",
       "    </tr>\n",
       "    <tr>\n",
       "      <th>44379</th>\n",
       "      <td>1456</td>\n",
       "      <td>1613</td>\n",
       "      <td>1.0</td>\n",
       "      <td>16.95</td>\n",
       "      <td>507</td>\n",
       "      <td>25</td>\n",
       "      <td>212</td>\n",
       "      <td>11</td>\n",
       "      <td>16.95</td>\n",
       "      <td>1</td>\n",
       "      <td>2011-01-05 12:20:00</td>\n",
       "    </tr>\n",
       "    <tr>\n",
       "      <th>23985</th>\n",
       "      <td>827</td>\n",
       "      <td>1504</td>\n",
       "      <td>1.0</td>\n",
       "      <td>1.25</td>\n",
       "      <td>541</td>\n",
       "      <td>25</td>\n",
       "      <td>2146</td>\n",
       "      <td>0</td>\n",
       "      <td>1.25</td>\n",
       "      <td>1</td>\n",
       "      <td>2010-12-10 13:27:00</td>\n",
       "    </tr>\n",
       "  </tbody>\n",
       "</table>\n",
       "<p>35000 rows × 11 columns</p>\n",
       "</div>"
      ],
      "text/plain": [
       "      InvoiceNo StockCode  Quantity  UnitPrice CustomerID Country  \\\n",
       "26354       880       276       2.0       2.95        476      25   \n",
       "20198       717       704       2.0       2.95       1092      25   \n",
       "78843      2430      1291       1.0       4.95        872      25   \n",
       "25400       851       517       1.0       3.75        735      25   \n",
       "19735       687      2308      24.0       0.42        705      25   \n",
       "...         ...       ...       ...        ...        ...     ...   \n",
       "10054       400       736       3.0       3.75        224      25   \n",
       "23634       807      1564       2.0       9.95        113      25   \n",
       "26762       893       695      12.0       1.65        228      25   \n",
       "44379      1456      1613       1.0      16.95        507      25   \n",
       "23985       827      1504       1.0       1.25        541      25   \n",
       "\n",
       "      Product_Type Colour_type    GMV  Cluster number         InvoiceDate  \n",
       "26354         1760          11   2.95               1 2010-12-12 13:37:00  \n",
       "20198         1929           0   2.95               1 2010-12-09 12:37:00  \n",
       "78843         1239           0   4.95               1 2011-02-01 14:01:00  \n",
       "25400          872          11   3.75               1 2010-12-12 10:57:00  \n",
       "19735          346           6   0.42               1 2010-12-09 10:04:00  \n",
       "...            ...         ...    ...             ...                 ...  \n",
       "10054          442          13   3.75               1 2010-12-05 16:24:00  \n",
       "23634         1507           0   9.95               1 2010-12-10 11:33:00  \n",
       "26762         2066          11   1.65               1 2010-12-13 09:29:00  \n",
       "44379          212          11  16.95               1 2011-01-05 12:20:00  \n",
       "23985         2146           0   1.25               1 2010-12-10 13:27:00  \n",
       "\n",
       "[35000 rows x 11 columns]"
      ]
     },
     "execution_count": 44,
     "metadata": {},
     "output_type": "execute_result"
    }
   ],
   "source": [
    "mergedDf = train.merge(pd.DataFrame(dataset[\"InvoiceDate\"]), left_index=True, right_index=True)\n",
    "mergedDf"
   ]
  },
  {
   "cell_type": "code",
   "execution_count": 60,
   "metadata": {},
   "outputs": [],
   "source": [
    "mergedDf[\"InvoiceDate\"]= pd.to_datetime(mergedDf[\"InvoiceDate\"])\n"
   ]
  },
  {
   "cell_type": "code",
   "execution_count": 45,
   "metadata": {
    "id": "HvQNyGdtJT7G"
   },
   "outputs": [],
   "source": [
    "mergedDf.to_csv('mergedDf.csv')"
   ]
  },
  {
   "cell_type": "code",
   "execution_count": 46,
   "metadata": {
    "colab": {
     "base_uri": "https://localhost:8080/",
     "height": 194
    },
    "id": "v8Q6vPifSduN",
    "outputId": "434c1fe2-6eb5-4206-db46-3cc4ecb892f1"
   },
   "outputs": [
    {
     "data": {
      "text/html": [
       "<div>\n",
       "<style scoped>\n",
       "    .dataframe tbody tr th:only-of-type {\n",
       "        vertical-align: middle;\n",
       "    }\n",
       "\n",
       "    .dataframe tbody tr th {\n",
       "        vertical-align: top;\n",
       "    }\n",
       "\n",
       "    .dataframe thead th {\n",
       "        text-align: right;\n",
       "    }\n",
       "</style>\n",
       "<table border=\"1\" class=\"dataframe\">\n",
       "  <thead>\n",
       "    <tr style=\"text-align: right;\">\n",
       "      <th></th>\n",
       "      <th>InvoiceNo</th>\n",
       "      <th>StockCode</th>\n",
       "      <th>Quantity</th>\n",
       "      <th>UnitPrice</th>\n",
       "      <th>CustomerID</th>\n",
       "      <th>Country</th>\n",
       "      <th>Product_Type</th>\n",
       "      <th>Colour_type</th>\n",
       "      <th>GMV</th>\n",
       "      <th>Cluster number</th>\n",
       "      <th>InvoiceDate</th>\n",
       "    </tr>\n",
       "  </thead>\n",
       "  <tbody>\n",
       "    <tr>\n",
       "      <th>0</th>\n",
       "      <td>880</td>\n",
       "      <td>276</td>\n",
       "      <td>2.0</td>\n",
       "      <td>2.95</td>\n",
       "      <td>476</td>\n",
       "      <td>25</td>\n",
       "      <td>1760</td>\n",
       "      <td>11</td>\n",
       "      <td>2.95</td>\n",
       "      <td>1</td>\n",
       "      <td>2010-12-12 13:37:00</td>\n",
       "    </tr>\n",
       "    <tr>\n",
       "      <th>1</th>\n",
       "      <td>717</td>\n",
       "      <td>704</td>\n",
       "      <td>2.0</td>\n",
       "      <td>2.95</td>\n",
       "      <td>1092</td>\n",
       "      <td>25</td>\n",
       "      <td>1929</td>\n",
       "      <td>0</td>\n",
       "      <td>2.95</td>\n",
       "      <td>1</td>\n",
       "      <td>2010-12-09 12:37:00</td>\n",
       "    </tr>\n",
       "    <tr>\n",
       "      <th>2</th>\n",
       "      <td>2430</td>\n",
       "      <td>1291</td>\n",
       "      <td>1.0</td>\n",
       "      <td>4.95</td>\n",
       "      <td>872</td>\n",
       "      <td>25</td>\n",
       "      <td>1239</td>\n",
       "      <td>0</td>\n",
       "      <td>4.95</td>\n",
       "      <td>1</td>\n",
       "      <td>2011-02-01 14:01:00</td>\n",
       "    </tr>\n",
       "    <tr>\n",
       "      <th>3</th>\n",
       "      <td>851</td>\n",
       "      <td>517</td>\n",
       "      <td>1.0</td>\n",
       "      <td>3.75</td>\n",
       "      <td>735</td>\n",
       "      <td>25</td>\n",
       "      <td>872</td>\n",
       "      <td>11</td>\n",
       "      <td>3.75</td>\n",
       "      <td>1</td>\n",
       "      <td>2010-12-12 10:57:00</td>\n",
       "    </tr>\n",
       "    <tr>\n",
       "      <th>4</th>\n",
       "      <td>687</td>\n",
       "      <td>2308</td>\n",
       "      <td>24.0</td>\n",
       "      <td>0.42</td>\n",
       "      <td>705</td>\n",
       "      <td>25</td>\n",
       "      <td>346</td>\n",
       "      <td>6</td>\n",
       "      <td>0.42</td>\n",
       "      <td>1</td>\n",
       "      <td>2010-12-09 10:04:00</td>\n",
       "    </tr>\n",
       "  </tbody>\n",
       "</table>\n",
       "</div>"
      ],
      "text/plain": [
       "   InvoiceNo  StockCode  Quantity  UnitPrice  CustomerID  Country  \\\n",
       "0        880        276       2.0       2.95         476       25   \n",
       "1        717        704       2.0       2.95        1092       25   \n",
       "2       2430       1291       1.0       4.95         872       25   \n",
       "3        851        517       1.0       3.75         735       25   \n",
       "4        687       2308      24.0       0.42         705       25   \n",
       "\n",
       "   Product_Type  Colour_type   GMV  Cluster number          InvoiceDate  \n",
       "0          1760           11  2.95               1  2010-12-12 13:37:00  \n",
       "1          1929            0  2.95               1  2010-12-09 12:37:00  \n",
       "2          1239            0  4.95               1  2011-02-01 14:01:00  \n",
       "3           872           11  3.75               1  2010-12-12 10:57:00  \n",
       "4           346            6  0.42               1  2010-12-09 10:04:00  "
      ]
     },
     "execution_count": 46,
     "metadata": {},
     "output_type": "execute_result"
    }
   ],
   "source": [
    "mergedDf = pd.read_csv('mergedDf.csv')\n",
    "mergedDf.drop(['Unnamed: 0'], axis =1, inplace=True)\n",
    "mergedDf.head()"
   ]
  },
  {
   "cell_type": "markdown",
   "metadata": {},
   "source": [
    "# Create new numerical columns from date"
   ]
  },
  {
   "cell_type": "code",
   "execution_count": 61,
   "metadata": {},
   "outputs": [],
   "source": [
    "mergedDf['day'] = mergedDf['InvoiceDate'].dt.day"
   ]
  },
  {
   "cell_type": "code",
   "execution_count": 63,
   "metadata": {},
   "outputs": [],
   "source": [
    "mergedDf['year'] = mergedDf['InvoiceDate'].dt.year"
   ]
  },
  {
   "cell_type": "code",
   "execution_count": 64,
   "metadata": {},
   "outputs": [],
   "source": [
    "mergedDf['month'] = mergedDf['InvoiceDate'].dt.month"
   ]
  },
  {
   "cell_type": "code",
   "execution_count": 66,
   "metadata": {},
   "outputs": [],
   "source": [
    "mergedDf.drop([\"InvoiceDate\"],axis=1, inplace = True)\n"
   ]
  },
  {
   "cell_type": "code",
   "execution_count": 67,
   "metadata": {},
   "outputs": [],
   "source": [
    "mergedDf.to_csv('mergedDf.csv')"
   ]
  },
  {
   "cell_type": "markdown",
   "metadata": {},
   "source": [
    "# Train | Test Split "
   ]
  },
  {
   "cell_type": "code",
   "execution_count": 68,
   "metadata": {
    "id": "tMIWz1rUBJgV"
   },
   "outputs": [],
   "source": [
    "from sklearn.model_selection import train_test_split\n",
    "train_, val_= train_test_split(mergedDf, train_size = 0.7, random_state = 123)"
   ]
  },
  {
   "cell_type": "code",
   "execution_count": 69,
   "metadata": {
    "id": "CY9FDoIYCdYV"
   },
   "outputs": [],
   "source": [
    "train_y=train_[\"Cluster number\"]\n",
    "train_x=train_.drop(['Cluster number'],axis=1,inplace=False)\n",
    "\n",
    "val_y=val_[\"Cluster number\"]\n",
    "val_x=val_.drop(['Cluster number'],axis=1,inplace=False)"
   ]
  },
  {
   "cell_type": "code",
   "execution_count": 70,
   "metadata": {
    "id": "4YcqNO23YIZo"
   },
   "outputs": [],
   "source": [
    "from sklearn.svm import LinearSVC "
   ]
  },
  {
   "cell_type": "code",
   "execution_count": 116,
   "metadata": {
    "id": "wYNnffP_TMiy"
   },
   "outputs": [
    {
     "data": {
      "text/plain": [
       "LinearSVC()"
      ]
     },
     "execution_count": 116,
     "metadata": {},
     "output_type": "execute_result"
    }
   ],
   "source": [
    "import warnings\n",
    "warnings.filterwarnings('ignore')\n",
    "model1 = LinearSVC()\n",
    "model1.fit(train_x,train_y)"
   ]
  },
  {
   "cell_type": "code",
   "execution_count": 72,
   "metadata": {
    "id": "RRrOhCUyTvAv"
   },
   "outputs": [],
   "source": [
    "pred_y = model1.predict(val_x)"
   ]
  },
  {
   "cell_type": "code",
   "execution_count": 73,
   "metadata": {
    "id": "br80SX9dVOsY"
   },
   "outputs": [
    {
     "data": {
      "text/plain": [
       "0.9997142857142857"
      ]
     },
     "execution_count": 73,
     "metadata": {},
     "output_type": "execute_result"
    }
   ],
   "source": [
    "from sklearn.metrics import accuracy_score\n",
    "accuracy_score(val_y,pred_y)"
   ]
  },
  {
   "cell_type": "code",
   "execution_count": 91,
   "metadata": {
    "colab": {
     "base_uri": "https://localhost:8080/",
     "height": 405
    },
    "id": "4jmE8vWWXOIn",
    "outputId": "fc411b7a-4bc5-46dd-de26-525a936d71f1"
   },
   "outputs": [
    {
     "data": {
      "text/html": [
       "<div>\n",
       "<style scoped>\n",
       "    .dataframe tbody tr th:only-of-type {\n",
       "        vertical-align: middle;\n",
       "    }\n",
       "\n",
       "    .dataframe tbody tr th {\n",
       "        vertical-align: top;\n",
       "    }\n",
       "\n",
       "    .dataframe thead th {\n",
       "        text-align: right;\n",
       "    }\n",
       "</style>\n",
       "<table border=\"1\" class=\"dataframe\">\n",
       "  <thead>\n",
       "    <tr style=\"text-align: right;\">\n",
       "      <th></th>\n",
       "      <th>InvoiceNo</th>\n",
       "      <th>StockCode</th>\n",
       "      <th>Quantity</th>\n",
       "      <th>UnitPrice</th>\n",
       "      <th>CustomerID</th>\n",
       "      <th>Country</th>\n",
       "      <th>Product_Type</th>\n",
       "      <th>Colour_type</th>\n",
       "      <th>GMV</th>\n",
       "      <th>InvoiceDate</th>\n",
       "    </tr>\n",
       "  </thead>\n",
       "  <tbody>\n",
       "    <tr>\n",
       "      <th>17904</th>\n",
       "      <td>617</td>\n",
       "      <td>991</td>\n",
       "      <td>1.0</td>\n",
       "      <td>8.50</td>\n",
       "      <td>1158</td>\n",
       "      <td>25</td>\n",
       "      <td>2229</td>\n",
       "      <td>13</td>\n",
       "      <td>8.50</td>\n",
       "      <td>2010-12-08 12:46:00</td>\n",
       "    </tr>\n",
       "    <tr>\n",
       "      <th>66488</th>\n",
       "      <td>2025</td>\n",
       "      <td>921</td>\n",
       "      <td>3.0</td>\n",
       "      <td>2.95</td>\n",
       "      <td>692</td>\n",
       "      <td>25</td>\n",
       "      <td>1419</td>\n",
       "      <td>0</td>\n",
       "      <td>2.95</td>\n",
       "      <td>2011-01-21 14:17:00</td>\n",
       "    </tr>\n",
       "    <tr>\n",
       "      <th>58308</th>\n",
       "      <td>1827</td>\n",
       "      <td>852</td>\n",
       "      <td>48.0</td>\n",
       "      <td>0.29</td>\n",
       "      <td>403</td>\n",
       "      <td>25</td>\n",
       "      <td>999</td>\n",
       "      <td>0</td>\n",
       "      <td>0.29</td>\n",
       "      <td>2011-01-14 14:47:00</td>\n",
       "    </tr>\n",
       "    <tr>\n",
       "      <th>7456</th>\n",
       "      <td>318</td>\n",
       "      <td>1440</td>\n",
       "      <td>2.0</td>\n",
       "      <td>2.95</td>\n",
       "      <td>857</td>\n",
       "      <td>25</td>\n",
       "      <td>1702</td>\n",
       "      <td>14</td>\n",
       "      <td>2.95</td>\n",
       "      <td>2010-12-05 10:36:00</td>\n",
       "    </tr>\n",
       "    <tr>\n",
       "      <th>47461</th>\n",
       "      <td>1543</td>\n",
       "      <td>275</td>\n",
       "      <td>3.0</td>\n",
       "      <td>0.95</td>\n",
       "      <td>1047</td>\n",
       "      <td>25</td>\n",
       "      <td>347</td>\n",
       "      <td>0</td>\n",
       "      <td>0.95</td>\n",
       "      <td>2011-01-07 10:47:00</td>\n",
       "    </tr>\n",
       "    <tr>\n",
       "      <th>...</th>\n",
       "      <td>...</td>\n",
       "      <td>...</td>\n",
       "      <td>...</td>\n",
       "      <td>...</td>\n",
       "      <td>...</td>\n",
       "      <td>...</td>\n",
       "      <td>...</td>\n",
       "      <td>...</td>\n",
       "      <td>...</td>\n",
       "      <td>...</td>\n",
       "    </tr>\n",
       "    <tr>\n",
       "      <th>32568</th>\n",
       "      <td>1118</td>\n",
       "      <td>1246</td>\n",
       "      <td>6.0</td>\n",
       "      <td>2.95</td>\n",
       "      <td>677</td>\n",
       "      <td>25</td>\n",
       "      <td>984</td>\n",
       "      <td>0</td>\n",
       "      <td>2.95</td>\n",
       "      <td>2010-12-16 09:46:00</td>\n",
       "    </tr>\n",
       "    <tr>\n",
       "      <th>37840</th>\n",
       "      <td>1291</td>\n",
       "      <td>822</td>\n",
       "      <td>1.0</td>\n",
       "      <td>1.95</td>\n",
       "      <td>770</td>\n",
       "      <td>25</td>\n",
       "      <td>68</td>\n",
       "      <td>9</td>\n",
       "      <td>1.95</td>\n",
       "      <td>2010-12-19 15:44:00</td>\n",
       "    </tr>\n",
       "    <tr>\n",
       "      <th>45541</th>\n",
       "      <td>1491</td>\n",
       "      <td>1493</td>\n",
       "      <td>240.0</td>\n",
       "      <td>4.25</td>\n",
       "      <td>15</td>\n",
       "      <td>0</td>\n",
       "      <td>277</td>\n",
       "      <td>0</td>\n",
       "      <td>4.25</td>\n",
       "      <td>2011-01-06 11:12:00</td>\n",
       "    </tr>\n",
       "    <tr>\n",
       "      <th>58093</th>\n",
       "      <td>1824</td>\n",
       "      <td>1729</td>\n",
       "      <td>64.0</td>\n",
       "      <td>8.50</td>\n",
       "      <td>415</td>\n",
       "      <td>6</td>\n",
       "      <td>528</td>\n",
       "      <td>0</td>\n",
       "      <td>8.50</td>\n",
       "      <td>2011-01-14 14:11:00</td>\n",
       "    </tr>\n",
       "    <tr>\n",
       "      <th>78177</th>\n",
       "      <td>2406</td>\n",
       "      <td>1406</td>\n",
       "      <td>2.0</td>\n",
       "      <td>1.95</td>\n",
       "      <td>1012</td>\n",
       "      <td>25</td>\n",
       "      <td>1942</td>\n",
       "      <td>0</td>\n",
       "      <td>1.95</td>\n",
       "      <td>2011-02-01 11:31:00</td>\n",
       "    </tr>\n",
       "  </tbody>\n",
       "</table>\n",
       "<p>15000 rows × 10 columns</p>\n",
       "</div>"
      ],
      "text/plain": [
       "      InvoiceNo StockCode  Quantity  UnitPrice CustomerID Country  \\\n",
       "17904       617       991       1.0       8.50       1158      25   \n",
       "66488      2025       921       3.0       2.95        692      25   \n",
       "58308      1827       852      48.0       0.29        403      25   \n",
       "7456        318      1440       2.0       2.95        857      25   \n",
       "47461      1543       275       3.0       0.95       1047      25   \n",
       "...         ...       ...       ...        ...        ...     ...   \n",
       "32568      1118      1246       6.0       2.95        677      25   \n",
       "37840      1291       822       1.0       1.95        770      25   \n",
       "45541      1491      1493     240.0       4.25         15       0   \n",
       "58093      1824      1729      64.0       8.50        415       6   \n",
       "78177      2406      1406       2.0       1.95       1012      25   \n",
       "\n",
       "      Product_Type Colour_type   GMV         InvoiceDate  \n",
       "17904         2229          13  8.50 2010-12-08 12:46:00  \n",
       "66488         1419           0  2.95 2011-01-21 14:17:00  \n",
       "58308          999           0  0.29 2011-01-14 14:47:00  \n",
       "7456          1702          14  2.95 2010-12-05 10:36:00  \n",
       "47461          347           0  0.95 2011-01-07 10:47:00  \n",
       "...            ...         ...   ...                 ...  \n",
       "32568          984           0  2.95 2010-12-16 09:46:00  \n",
       "37840           68           9  1.95 2010-12-19 15:44:00  \n",
       "45541          277           0  4.25 2011-01-06 11:12:00  \n",
       "58093          528           0  8.50 2011-01-14 14:11:00  \n",
       "78177         1942           0  1.95 2011-02-01 11:31:00  \n",
       "\n",
       "[15000 rows x 10 columns]"
      ]
     },
     "execution_count": 91,
     "metadata": {},
     "output_type": "execute_result"
    }
   ],
   "source": [
    "test_Df = test.merge(pd.DataFrame(dataset[\"InvoiceDate\"]), left_index=True, right_index=True)\n",
    "test_Df"
   ]
  },
  {
   "cell_type": "code",
   "execution_count": 92,
   "metadata": {
    "colab": {
     "base_uri": "https://localhost:8080/",
     "height": 204
    },
    "id": "BwsDeF7mXqVx",
    "outputId": "3f18a7c2-207b-4ea1-8e11-fabfa84e9049"
   },
   "outputs": [],
   "source": [
    "test_Df['day'] = test_Df['InvoiceDate'].dt.day\n",
    "test_Df['month'] = test_Df['InvoiceDate'].dt.month\n",
    "test_Df['year'] = test_Df['InvoiceDate'].dt.year"
   ]
  },
  {
   "cell_type": "code",
   "execution_count": 94,
   "metadata": {},
   "outputs": [],
   "source": [
    "test_Df= test_Df.drop([\"InvoiceDate\"],axis=1)"
   ]
  },
  {
   "cell_type": "code",
   "execution_count": 96,
   "metadata": {},
   "outputs": [
    {
     "name": "stdout",
     "output_type": "stream",
     "text": [
      "<class 'pandas.core.frame.DataFrame'>\n",
      "Int64Index: 15000 entries, 17904 to 78177\n",
      "Data columns (total 12 columns):\n",
      " #   Column        Non-Null Count  Dtype   \n",
      "---  ------        --------------  -----   \n",
      " 0   InvoiceNo     15000 non-null  category\n",
      " 1   StockCode     15000 non-null  category\n",
      " 2   Quantity      15000 non-null  float64 \n",
      " 3   UnitPrice     15000 non-null  float64 \n",
      " 4   CustomerID    15000 non-null  category\n",
      " 5   Country       15000 non-null  category\n",
      " 6   Product_Type  15000 non-null  category\n",
      " 7   Colour_type   15000 non-null  category\n",
      " 8   GMV           15000 non-null  float64 \n",
      " 9   day           15000 non-null  int64   \n",
      " 10  month         15000 non-null  int64   \n",
      " 11  year          15000 non-null  int64   \n",
      "dtypes: category(6), float64(3), int64(3)\n",
      "memory usage: 1.3 MB\n"
     ]
    }
   ],
   "source": [
    "test_Df.info()"
   ]
  },
  {
   "cell_type": "code",
   "execution_count": 97,
   "metadata": {
    "colab": {
     "base_uri": "https://localhost:8080/",
     "height": 419
    },
    "id": "ZnKEbyV4Zj4K",
    "outputId": "91b09bf2-dbbe-490a-83eb-2f50782134ad"
   },
   "outputs": [
    {
     "data": {
      "text/html": [
       "<div>\n",
       "<style scoped>\n",
       "    .dataframe tbody tr th:only-of-type {\n",
       "        vertical-align: middle;\n",
       "    }\n",
       "\n",
       "    .dataframe tbody tr th {\n",
       "        vertical-align: top;\n",
       "    }\n",
       "\n",
       "    .dataframe thead th {\n",
       "        text-align: right;\n",
       "    }\n",
       "</style>\n",
       "<table border=\"1\" class=\"dataframe\">\n",
       "  <thead>\n",
       "    <tr style=\"text-align: right;\">\n",
       "      <th></th>\n",
       "      <th>InvoiceNo</th>\n",
       "      <th>StockCode</th>\n",
       "      <th>Quantity</th>\n",
       "      <th>UnitPrice</th>\n",
       "      <th>CustomerID</th>\n",
       "      <th>Country</th>\n",
       "      <th>Product_Type</th>\n",
       "      <th>Colour_type</th>\n",
       "      <th>GMV</th>\n",
       "      <th>day</th>\n",
       "      <th>month</th>\n",
       "      <th>year</th>\n",
       "      <th>Cluster number</th>\n",
       "    </tr>\n",
       "  </thead>\n",
       "  <tbody>\n",
       "    <tr>\n",
       "      <th>17904</th>\n",
       "      <td>617</td>\n",
       "      <td>991</td>\n",
       "      <td>1.0</td>\n",
       "      <td>8.50</td>\n",
       "      <td>1158</td>\n",
       "      <td>25</td>\n",
       "      <td>2229</td>\n",
       "      <td>13</td>\n",
       "      <td>8.50</td>\n",
       "      <td>8</td>\n",
       "      <td>12</td>\n",
       "      <td>2010</td>\n",
       "      <td>1</td>\n",
       "    </tr>\n",
       "    <tr>\n",
       "      <th>66488</th>\n",
       "      <td>2025</td>\n",
       "      <td>921</td>\n",
       "      <td>3.0</td>\n",
       "      <td>2.95</td>\n",
       "      <td>692</td>\n",
       "      <td>25</td>\n",
       "      <td>1419</td>\n",
       "      <td>0</td>\n",
       "      <td>2.95</td>\n",
       "      <td>21</td>\n",
       "      <td>1</td>\n",
       "      <td>2011</td>\n",
       "      <td>1</td>\n",
       "    </tr>\n",
       "    <tr>\n",
       "      <th>58308</th>\n",
       "      <td>1827</td>\n",
       "      <td>852</td>\n",
       "      <td>48.0</td>\n",
       "      <td>0.29</td>\n",
       "      <td>403</td>\n",
       "      <td>25</td>\n",
       "      <td>999</td>\n",
       "      <td>0</td>\n",
       "      <td>0.29</td>\n",
       "      <td>14</td>\n",
       "      <td>1</td>\n",
       "      <td>2011</td>\n",
       "      <td>1</td>\n",
       "    </tr>\n",
       "    <tr>\n",
       "      <th>7456</th>\n",
       "      <td>318</td>\n",
       "      <td>1440</td>\n",
       "      <td>2.0</td>\n",
       "      <td>2.95</td>\n",
       "      <td>857</td>\n",
       "      <td>25</td>\n",
       "      <td>1702</td>\n",
       "      <td>14</td>\n",
       "      <td>2.95</td>\n",
       "      <td>5</td>\n",
       "      <td>12</td>\n",
       "      <td>2010</td>\n",
       "      <td>1</td>\n",
       "    </tr>\n",
       "    <tr>\n",
       "      <th>47461</th>\n",
       "      <td>1543</td>\n",
       "      <td>275</td>\n",
       "      <td>3.0</td>\n",
       "      <td>0.95</td>\n",
       "      <td>1047</td>\n",
       "      <td>25</td>\n",
       "      <td>347</td>\n",
       "      <td>0</td>\n",
       "      <td>0.95</td>\n",
       "      <td>7</td>\n",
       "      <td>1</td>\n",
       "      <td>2011</td>\n",
       "      <td>1</td>\n",
       "    </tr>\n",
       "    <tr>\n",
       "      <th>...</th>\n",
       "      <td>...</td>\n",
       "      <td>...</td>\n",
       "      <td>...</td>\n",
       "      <td>...</td>\n",
       "      <td>...</td>\n",
       "      <td>...</td>\n",
       "      <td>...</td>\n",
       "      <td>...</td>\n",
       "      <td>...</td>\n",
       "      <td>...</td>\n",
       "      <td>...</td>\n",
       "      <td>...</td>\n",
       "      <td>...</td>\n",
       "    </tr>\n",
       "    <tr>\n",
       "      <th>32568</th>\n",
       "      <td>1118</td>\n",
       "      <td>1246</td>\n",
       "      <td>6.0</td>\n",
       "      <td>2.95</td>\n",
       "      <td>677</td>\n",
       "      <td>25</td>\n",
       "      <td>984</td>\n",
       "      <td>0</td>\n",
       "      <td>2.95</td>\n",
       "      <td>16</td>\n",
       "      <td>12</td>\n",
       "      <td>2010</td>\n",
       "      <td>1</td>\n",
       "    </tr>\n",
       "    <tr>\n",
       "      <th>37840</th>\n",
       "      <td>1291</td>\n",
       "      <td>822</td>\n",
       "      <td>1.0</td>\n",
       "      <td>1.95</td>\n",
       "      <td>770</td>\n",
       "      <td>25</td>\n",
       "      <td>68</td>\n",
       "      <td>9</td>\n",
       "      <td>1.95</td>\n",
       "      <td>19</td>\n",
       "      <td>12</td>\n",
       "      <td>2010</td>\n",
       "      <td>1</td>\n",
       "    </tr>\n",
       "    <tr>\n",
       "      <th>45541</th>\n",
       "      <td>1491</td>\n",
       "      <td>1493</td>\n",
       "      <td>240.0</td>\n",
       "      <td>4.25</td>\n",
       "      <td>15</td>\n",
       "      <td>0</td>\n",
       "      <td>277</td>\n",
       "      <td>0</td>\n",
       "      <td>4.25</td>\n",
       "      <td>6</td>\n",
       "      <td>1</td>\n",
       "      <td>2011</td>\n",
       "      <td>1</td>\n",
       "    </tr>\n",
       "    <tr>\n",
       "      <th>58093</th>\n",
       "      <td>1824</td>\n",
       "      <td>1729</td>\n",
       "      <td>64.0</td>\n",
       "      <td>8.50</td>\n",
       "      <td>415</td>\n",
       "      <td>6</td>\n",
       "      <td>528</td>\n",
       "      <td>0</td>\n",
       "      <td>8.50</td>\n",
       "      <td>14</td>\n",
       "      <td>1</td>\n",
       "      <td>2011</td>\n",
       "      <td>1</td>\n",
       "    </tr>\n",
       "    <tr>\n",
       "      <th>78177</th>\n",
       "      <td>2406</td>\n",
       "      <td>1406</td>\n",
       "      <td>2.0</td>\n",
       "      <td>1.95</td>\n",
       "      <td>1012</td>\n",
       "      <td>25</td>\n",
       "      <td>1942</td>\n",
       "      <td>0</td>\n",
       "      <td>1.95</td>\n",
       "      <td>1</td>\n",
       "      <td>2</td>\n",
       "      <td>2011</td>\n",
       "      <td>1</td>\n",
       "    </tr>\n",
       "  </tbody>\n",
       "</table>\n",
       "<p>15000 rows × 13 columns</p>\n",
       "</div>"
      ],
      "text/plain": [
       "      InvoiceNo StockCode  Quantity  UnitPrice CustomerID Country  \\\n",
       "17904       617       991       1.0       8.50       1158      25   \n",
       "66488      2025       921       3.0       2.95        692      25   \n",
       "58308      1827       852      48.0       0.29        403      25   \n",
       "7456        318      1440       2.0       2.95        857      25   \n",
       "47461      1543       275       3.0       0.95       1047      25   \n",
       "...         ...       ...       ...        ...        ...     ...   \n",
       "32568      1118      1246       6.0       2.95        677      25   \n",
       "37840      1291       822       1.0       1.95        770      25   \n",
       "45541      1491      1493     240.0       4.25         15       0   \n",
       "58093      1824      1729      64.0       8.50        415       6   \n",
       "78177      2406      1406       2.0       1.95       1012      25   \n",
       "\n",
       "      Product_Type Colour_type   GMV  day  month  year  Cluster number  \n",
       "17904         2229          13  8.50    8     12  2010               1  \n",
       "66488         1419           0  2.95   21      1  2011               1  \n",
       "58308          999           0  0.29   14      1  2011               1  \n",
       "7456          1702          14  2.95    5     12  2010               1  \n",
       "47461          347           0  0.95    7      1  2011               1  \n",
       "...            ...         ...   ...  ...    ...   ...             ...  \n",
       "32568          984           0  2.95   16     12  2010               1  \n",
       "37840           68           9  1.95   19     12  2010               1  \n",
       "45541          277           0  4.25    6      1  2011               1  \n",
       "58093          528           0  8.50   14      1  2011               1  \n",
       "78177         1942           0  1.95    1      2  2011               1  \n",
       "\n",
       "[15000 rows x 13 columns]"
      ]
     },
     "execution_count": 97,
     "metadata": {},
     "output_type": "execute_result"
    }
   ],
   "source": [
    "# Prediction of cluster_number on test data\n",
    "\n",
    "test_Df['Cluster number'] = model1.predict(test_Df)\n",
    "test_Df "
   ]
  },
  {
   "cell_type": "markdown",
   "metadata": {
    "id": "ak7tnOPcdOX2"
   },
   "source": [
    "# Predict Quantity demand"
   ]
  },
  {
   "cell_type": "code",
   "execution_count": 98,
   "metadata": {
    "id": "Bq3hL1hRfEY3"
   },
   "outputs": [],
   "source": [
    "train_y=train_[\"Quantity\"].astype('int')\n",
    "train_x=train_.drop(['Quantity'], axis=1,inplace=False)\n",
    "\n",
    "test_Df_y=test_Df[\"Quantity\"].astype('int')\n",
    "test_Df_x=test_Df.drop(['Quantity'],axis=1,inplace=False)"
   ]
  },
  {
   "cell_type": "markdown",
   "metadata": {
    "id": "d54cHiQnKU9T"
   },
   "source": [
    "Random Forest Classifier"
   ]
  },
  {
   "cell_type": "code",
   "execution_count": 99,
   "metadata": {
    "id": "Sp7bdYaKc9d5"
   },
   "outputs": [
    {
     "data": {
      "text/plain": [
       "RandomForestClassifier()"
      ]
     },
     "execution_count": 99,
     "metadata": {},
     "output_type": "execute_result"
    }
   ],
   "source": [
    "from sklearn.ensemble import RandomForestClassifier\n",
    "\n",
    "clf = RandomForestClassifier(bootstrap=True,ccp_alpha=0.0,\n",
    "                                                   max_depth=None,\n",
    "                                                   max_features='auto',\n",
    "                                                   max_leaf_nodes=None,\n",
    "                                                   max_samples=None,\n",
    "                                                   min_impurity_decrease=0.0,\n",
    "                                                   min_impurity_split=None,\n",
    "                                                   min_samples_leaf=1,\n",
    "                                                   min_samples_split=2,\n",
    "                                                   min_weight_fraction_leaf=0.0,\n",
    "                                                   n_estimators=100,\n",
    "                                                   n_jobs=None,)\n",
    "clf.fit(train_x, train_y)"
   ]
  },
  {
   "cell_type": "code",
   "execution_count": 100,
   "metadata": {
    "id": "XVEYFth2dGl0"
   },
   "outputs": [
    {
     "data": {
      "text/plain": [
       "array([ 1,  2, 24, ...,  4,  2, 12])"
      ]
     },
     "execution_count": 100,
     "metadata": {},
     "output_type": "execute_result"
    }
   ],
   "source": [
    "prediction_test = clf.predict(test_Df_x)\n",
    "prediction_test"
   ]
  },
  {
   "cell_type": "code",
   "execution_count": 101,
   "metadata": {
    "id": "LNFpJ-LgIIGB"
   },
   "outputs": [
    {
     "data": {
      "text/plain": [
       "0.44"
      ]
     },
     "execution_count": 101,
     "metadata": {},
     "output_type": "execute_result"
    }
   ],
   "source": [
    "from sklearn.metrics import f1_score\n",
    "f1_score(test_Df_y, prediction_test, average='micro')"
   ]
  },
  {
   "cell_type": "code",
   "execution_count": 102,
   "metadata": {
    "id": "NNsEtFPlILUs"
   },
   "outputs": [
    {
     "data": {
      "text/plain": [
       "0.44"
      ]
     },
     "execution_count": 102,
     "metadata": {},
     "output_type": "execute_result"
    }
   ],
   "source": [
    "accuracy_score(test_Df_y, prediction_test)"
   ]
  },
  {
   "cell_type": "code",
   "execution_count": 103,
   "metadata": {
    "id": "-OtmjlNLoDuB"
   },
   "outputs": [
    {
     "name": "stdout",
     "output_type": "stream",
     "text": [
      "0.25233333333333335\n"
     ]
    }
   ],
   "source": [
    "# KNN\n",
    "\n",
    "from sklearn.neighbors import KNeighborsClassifier\n",
    "\n",
    "neigh = KNeighborsClassifier(n_neighbors=3)\n",
    "neigh.fit(train_x, train_y)\n",
    "knn=neigh.predict(test_Df_x)\n",
    "print(accuracy_score(test_Df_y, knn))"
   ]
  },
  {
   "cell_type": "code",
   "execution_count": 111,
   "metadata": {
    "id": "YxMnr7qPVb8K"
   },
   "outputs": [
    {
     "name": "stdout",
     "output_type": "stream",
     "text": [
      "0.0524\n"
     ]
    }
   ],
   "source": [
    "# Naive base Classifier\n",
    "\n",
    "from sklearn.naive_bayes import GaussianNB\n",
    "\n",
    "lr = GaussianNB()\n",
    "lr.fit(train_x, train_y)\n",
    "lrc=lr.predict(test_Df_x)\n",
    "print(accuracy_score(test_Df_y, lrc))"
   ]
  },
  {
   "cell_type": "code",
   "execution_count": 112,
   "metadata": {
    "id": "oVMvAK0tXgYQ"
   },
   "outputs": [
    {
     "data": {
      "text/plain": [
       "0.31553333333333333"
      ]
     },
     "execution_count": 112,
     "metadata": {},
     "output_type": "execute_result"
    }
   ],
   "source": [
    "# Decision Tree Classifier\n",
    "\n",
    "from sklearn.tree import DecisionTreeClassifier \n",
    "\n",
    "dtree_model = DecisionTreeClassifier().fit(train_x, train_y)\n",
    "dtree_predictions = dtree_model.predict(test_Df_x)\n",
    "accuracy_score(test_Df_y, dtree_predictions)"
   ]
  },
  {
   "cell_type": "code",
   "execution_count": 119,
   "metadata": {},
   "outputs": [
    {
     "data": {
      "text/html": [
       "<div>\n",
       "<style scoped>\n",
       "    .dataframe tbody tr th:only-of-type {\n",
       "        vertical-align: middle;\n",
       "    }\n",
       "\n",
       "    .dataframe tbody tr th {\n",
       "        vertical-align: top;\n",
       "    }\n",
       "\n",
       "    .dataframe thead th {\n",
       "        text-align: right;\n",
       "    }\n",
       "</style>\n",
       "<table border=\"1\" class=\"dataframe\">\n",
       "  <thead>\n",
       "    <tr style=\"text-align: right;\">\n",
       "      <th></th>\n",
       "      <th>InvoiceNo</th>\n",
       "      <th>StockCode</th>\n",
       "      <th>UnitPrice</th>\n",
       "      <th>CustomerID</th>\n",
       "      <th>Country</th>\n",
       "      <th>Product_Type</th>\n",
       "      <th>Colour_type</th>\n",
       "      <th>GMV</th>\n",
       "      <th>day</th>\n",
       "      <th>month</th>\n",
       "      <th>year</th>\n",
       "      <th>Cluster number</th>\n",
       "    </tr>\n",
       "  </thead>\n",
       "  <tbody>\n",
       "    <tr>\n",
       "      <th>17904</th>\n",
       "      <td>617</td>\n",
       "      <td>991</td>\n",
       "      <td>8.50</td>\n",
       "      <td>1158</td>\n",
       "      <td>25</td>\n",
       "      <td>2229</td>\n",
       "      <td>13</td>\n",
       "      <td>8.50</td>\n",
       "      <td>8</td>\n",
       "      <td>12</td>\n",
       "      <td>2010</td>\n",
       "      <td>1</td>\n",
       "    </tr>\n",
       "    <tr>\n",
       "      <th>66488</th>\n",
       "      <td>2025</td>\n",
       "      <td>921</td>\n",
       "      <td>2.95</td>\n",
       "      <td>692</td>\n",
       "      <td>25</td>\n",
       "      <td>1419</td>\n",
       "      <td>0</td>\n",
       "      <td>2.95</td>\n",
       "      <td>21</td>\n",
       "      <td>1</td>\n",
       "      <td>2011</td>\n",
       "      <td>1</td>\n",
       "    </tr>\n",
       "    <tr>\n",
       "      <th>58308</th>\n",
       "      <td>1827</td>\n",
       "      <td>852</td>\n",
       "      <td>0.29</td>\n",
       "      <td>403</td>\n",
       "      <td>25</td>\n",
       "      <td>999</td>\n",
       "      <td>0</td>\n",
       "      <td>0.29</td>\n",
       "      <td>14</td>\n",
       "      <td>1</td>\n",
       "      <td>2011</td>\n",
       "      <td>1</td>\n",
       "    </tr>\n",
       "    <tr>\n",
       "      <th>7456</th>\n",
       "      <td>318</td>\n",
       "      <td>1440</td>\n",
       "      <td>2.95</td>\n",
       "      <td>857</td>\n",
       "      <td>25</td>\n",
       "      <td>1702</td>\n",
       "      <td>14</td>\n",
       "      <td>2.95</td>\n",
       "      <td>5</td>\n",
       "      <td>12</td>\n",
       "      <td>2010</td>\n",
       "      <td>1</td>\n",
       "    </tr>\n",
       "    <tr>\n",
       "      <th>47461</th>\n",
       "      <td>1543</td>\n",
       "      <td>275</td>\n",
       "      <td>0.95</td>\n",
       "      <td>1047</td>\n",
       "      <td>25</td>\n",
       "      <td>347</td>\n",
       "      <td>0</td>\n",
       "      <td>0.95</td>\n",
       "      <td>7</td>\n",
       "      <td>1</td>\n",
       "      <td>2011</td>\n",
       "      <td>1</td>\n",
       "    </tr>\n",
       "    <tr>\n",
       "      <th>...</th>\n",
       "      <td>...</td>\n",
       "      <td>...</td>\n",
       "      <td>...</td>\n",
       "      <td>...</td>\n",
       "      <td>...</td>\n",
       "      <td>...</td>\n",
       "      <td>...</td>\n",
       "      <td>...</td>\n",
       "      <td>...</td>\n",
       "      <td>...</td>\n",
       "      <td>...</td>\n",
       "      <td>...</td>\n",
       "    </tr>\n",
       "    <tr>\n",
       "      <th>32568</th>\n",
       "      <td>1118</td>\n",
       "      <td>1246</td>\n",
       "      <td>2.95</td>\n",
       "      <td>677</td>\n",
       "      <td>25</td>\n",
       "      <td>984</td>\n",
       "      <td>0</td>\n",
       "      <td>2.95</td>\n",
       "      <td>16</td>\n",
       "      <td>12</td>\n",
       "      <td>2010</td>\n",
       "      <td>1</td>\n",
       "    </tr>\n",
       "    <tr>\n",
       "      <th>37840</th>\n",
       "      <td>1291</td>\n",
       "      <td>822</td>\n",
       "      <td>1.95</td>\n",
       "      <td>770</td>\n",
       "      <td>25</td>\n",
       "      <td>68</td>\n",
       "      <td>9</td>\n",
       "      <td>1.95</td>\n",
       "      <td>19</td>\n",
       "      <td>12</td>\n",
       "      <td>2010</td>\n",
       "      <td>1</td>\n",
       "    </tr>\n",
       "    <tr>\n",
       "      <th>45541</th>\n",
       "      <td>1491</td>\n",
       "      <td>1493</td>\n",
       "      <td>4.25</td>\n",
       "      <td>15</td>\n",
       "      <td>0</td>\n",
       "      <td>277</td>\n",
       "      <td>0</td>\n",
       "      <td>4.25</td>\n",
       "      <td>6</td>\n",
       "      <td>1</td>\n",
       "      <td>2011</td>\n",
       "      <td>1</td>\n",
       "    </tr>\n",
       "    <tr>\n",
       "      <th>58093</th>\n",
       "      <td>1824</td>\n",
       "      <td>1729</td>\n",
       "      <td>8.50</td>\n",
       "      <td>415</td>\n",
       "      <td>6</td>\n",
       "      <td>528</td>\n",
       "      <td>0</td>\n",
       "      <td>8.50</td>\n",
       "      <td>14</td>\n",
       "      <td>1</td>\n",
       "      <td>2011</td>\n",
       "      <td>1</td>\n",
       "    </tr>\n",
       "    <tr>\n",
       "      <th>78177</th>\n",
       "      <td>2406</td>\n",
       "      <td>1406</td>\n",
       "      <td>1.95</td>\n",
       "      <td>1012</td>\n",
       "      <td>25</td>\n",
       "      <td>1942</td>\n",
       "      <td>0</td>\n",
       "      <td>1.95</td>\n",
       "      <td>1</td>\n",
       "      <td>2</td>\n",
       "      <td>2011</td>\n",
       "      <td>1</td>\n",
       "    </tr>\n",
       "  </tbody>\n",
       "</table>\n",
       "<p>15000 rows × 12 columns</p>\n",
       "</div>"
      ],
      "text/plain": [
       "      InvoiceNo StockCode  UnitPrice CustomerID Country Product_Type  \\\n",
       "17904       617       991       8.50       1158      25         2229   \n",
       "66488      2025       921       2.95        692      25         1419   \n",
       "58308      1827       852       0.29        403      25          999   \n",
       "7456        318      1440       2.95        857      25         1702   \n",
       "47461      1543       275       0.95       1047      25          347   \n",
       "...         ...       ...        ...        ...     ...          ...   \n",
       "32568      1118      1246       2.95        677      25          984   \n",
       "37840      1291       822       1.95        770      25           68   \n",
       "45541      1491      1493       4.25         15       0          277   \n",
       "58093      1824      1729       8.50        415       6          528   \n",
       "78177      2406      1406       1.95       1012      25         1942   \n",
       "\n",
       "      Colour_type   GMV  day  month  year  Cluster number  \n",
       "17904          13  8.50    8     12  2010               1  \n",
       "66488           0  2.95   21      1  2011               1  \n",
       "58308           0  0.29   14      1  2011               1  \n",
       "7456           14  2.95    5     12  2010               1  \n",
       "47461           0  0.95    7      1  2011               1  \n",
       "...           ...   ...  ...    ...   ...             ...  \n",
       "32568           0  2.95   16     12  2010               1  \n",
       "37840           9  1.95   19     12  2010               1  \n",
       "45541           0  4.25    6      1  2011               1  \n",
       "58093           0  8.50   14      1  2011               1  \n",
       "78177           0  1.95    1      2  2011               1  \n",
       "\n",
       "[15000 rows x 12 columns]"
      ]
     },
     "execution_count": 119,
     "metadata": {},
     "output_type": "execute_result"
    }
   ],
   "source": [
    "test_Df_x"
   ]
  },
  {
   "cell_type": "code",
   "execution_count": 110,
   "metadata": {},
   "outputs": [
    {
     "data": {
      "text/plain": [
       "array([ 1,  2, 24, ...,  4,  2, 12])"
      ]
     },
     "execution_count": 110,
     "metadata": {},
     "output_type": "execute_result"
    }
   ],
   "source": [
    "prediction_test"
   ]
  }
 ],
 "metadata": {
  "accelerator": "GPU",
  "colab": {
   "collapsed_sections": [],
   "name": "Demand Forecasting of items.ipynb",
   "provenance": [],
   "toc_visible": true
  },
  "kernelspec": {
   "display_name": "Python 3",
   "language": "python",
   "name": "python3"
  },
  "language_info": {
   "codemirror_mode": {
    "name": "ipython",
    "version": 3
   },
   "file_extension": ".py",
   "mimetype": "text/x-python",
   "name": "python",
   "nbconvert_exporter": "python",
   "pygments_lexer": "ipython3",
   "version": "3.8.5"
  }
 },
 "nbformat": 4,
 "nbformat_minor": 1
}
